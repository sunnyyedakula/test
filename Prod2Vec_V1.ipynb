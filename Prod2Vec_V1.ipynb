{
 "cells": [
  {
   "cell_type": "markdown",
   "metadata": {},
   "source": [
    "# Table of contents\n",
    "\n",
    "1. [Load the dataset](#load_the_dataset)\n",
    "2. [Split the dataset](#split_the_dataset)\n",
    "3. [Fitting the recommender](#fitting)\n",
    "4. [Sequential evaluation](#seq_evaluation)  \n",
    "    4.1 [Evaluation with sequentially revaeled user profiles](#eval_seq_rev)  \n",
    "    4.2 [Evaluation with \"static\" user profiles](#eval_static)  \n",
    "5. [Analysis of next-item recommendation](#next-item)  \n",
    "    5.1 [Evaluation with different recommendation list lengths](#next-item_list_length)  \n",
    "    5.2 [Evaluation with different user profile lengths](#next-item_profile_length)"
   ]
  },
  {
   "cell_type": "code",
   "execution_count": 30,
   "metadata": {},
   "outputs": [],
   "source": [
    "import numpy as np\n",
    "import pandas as pd\n",
    "import matplotlib.pyplot as plt\n",
    "import calendar\n",
    "import datetime\n",
    "import os\n",
    "import time\n",
    "from collections import Counter\n",
    "import numpy as np\n",
    "import pandas as pd\n",
    "import random\n",
    "from scipy.sparse import find\n",
    "import logging\n",
    "import gensim\n",
    "import numpy as np\n",
    "from tqdm import tqdm\n",
    "import datetime\n",
    "%matplotlib inline"
   ]
  },
  {
   "cell_type": "code",
   "execution_count": 31,
   "metadata": {},
   "outputs": [],
   "source": [
    "def remove_duplicates(l):\n",
    "    return [list(x) for x in set(tuple(x) for x in l)]\n",
    "\n",
    "def count_a_in_b_unique(a, b):\n",
    "    \"\"\"\n",
    "    :param a: list of lists\n",
    "    :param b: list of lists\n",
    "    :return: number of elements of a in b\n",
    "    \"\"\"\n",
    "    count = 0\n",
    "    for el in a:\n",
    "        if el in b:\n",
    "            count += 1\n",
    "    return count\n",
    "\n",
    "def sequential_evaluation(recommender,\n",
    "                          test_sequences,\n",
    "                          evaluation_functions,\n",
    "                          users=None,\n",
    "                          given_k=1,\n",
    "                          look_ahead=1,\n",
    "                          top_n=10,\n",
    "                          scroll=True,\n",
    "                          step=1):\n",
    "    \"\"\"\n",
    "    Runs sequential evaluation of a recommender over a set of test sequences\n",
    "    :param recommender: the instance of the recommender to test\n",
    "    :param test_sequences: the set of test sequences\n",
    "    :param evaluation_functions: list of evaluation metric functions\n",
    "    :param users: (optional) the list of user ids associated to each test sequence. Required by personalized models like FPMC.\n",
    "    :param given_k: (optional) the initial size of each user profile, starting from the first interaction in the sequence.\n",
    "                    If <0, start counting from the end of the sequence. It must be != 0.\n",
    "    :param look_ahead: (optional) number of subsequent interactions in the sequence to be considered as ground truth.\n",
    "                    It can be any positive number or 'all' to extend the ground truth until the end of the sequence.\n",
    "    :param top_n: (optional) size of the recommendation list\n",
    "    :param scroll: (optional) whether to scroll the ground truth until the end of the sequence.\n",
    "                If True, expand the user profile and move the ground truth forward of `step` interactions. Recompute and evaluate recommendations every time.\n",
    "                If False, evaluate recommendations once per sequence without expanding the user profile.\n",
    "    :param step: (optional) number of interactions that will be added to the user profile at each step of the sequential evaluation.\n",
    "    :return: the list of the average values for each evaluation metric\n",
    "    \"\"\"\n",
    "    if given_k == 0:\n",
    "        raise ValueError('given_k must be != 0')\n",
    "\n",
    "    metrics = np.zeros(len(evaluation_functions))\n",
    "    with tqdm(total=len(test_sequences)) as pbar:\n",
    "        for i, test_seq in enumerate(test_sequences):\n",
    "            if users is not None:\n",
    "                user = users[i]\n",
    "            else:\n",
    "                user = None\n",
    "            if scroll:\n",
    "                metrics += sequence_sequential_evaluation(recommender,\n",
    "                                                          test_seq,\n",
    "                                                          evaluation_functions,\n",
    "                                                          user,\n",
    "                                                          given_k,\n",
    "                                                          look_ahead,\n",
    "                                                          top_n,\n",
    "                                                          step)\n",
    "            else:\n",
    "                metrics += evaluate_sequence(recommender,\n",
    "                                             test_seq,\n",
    "                                             evaluation_functions,\n",
    "                                             user,\n",
    "                                             given_k,\n",
    "                                             look_ahead,\n",
    "                                             top_n)\n",
    "            pbar.update(1)\n",
    "    return metrics / len(test_sequences)\n",
    "\n",
    "\n",
    "def evaluate_sequence(recommender, seq, evaluation_functions, user, given_k, look_ahead, top_n):\n",
    "    \"\"\"\n",
    "    :param recommender: which recommender to use\n",
    "    :param seq: the user_profile/ context\n",
    "    :param given_k: last element used as ground truth. NB if <0 it is interpreted as first elements to keep\n",
    "    :param evaluation_functions: which function to use to evaluate the rec performance\n",
    "    :param look_ahead: number of elements in ground truth to consider. if look_ahead = 'all' then all the ground_truth sequence is considered\n",
    "    :return: performance of recommender\n",
    "    \"\"\"\n",
    "    # safety checks\n",
    "    if given_k < 0:\n",
    "        given_k = len(seq) + given_k\n",
    "\n",
    "    user_profile = seq[:given_k]\n",
    "    ground_truth = seq[given_k:]\n",
    "\n",
    "    # restrict ground truth to look_ahead\n",
    "    ground_truth = ground_truth[:look_ahead] if look_ahead != 'all' else ground_truth\n",
    "    ground_truth = list(map(lambda x: [x], ground_truth))  # list of list format\n",
    "\n",
    "    if not user_profile or not ground_truth:\n",
    "        # if any of the two missing all evaluation functions are 0\n",
    "        return np.zeros(len(evaluation_functions))\n",
    "\n",
    "    r = recommender.recommend(user_profile, user)[:top_n]\n",
    "\n",
    "    if not r:\n",
    "        # no recommendation found\n",
    "        return np.zeros(len(evaluation_functions))\n",
    "    reco_list = recommender.get_recommendation_list(r)\n",
    "\n",
    "    tmp_results = []\n",
    "    for f in evaluation_functions:\n",
    "        tmp_results.append(f(ground_truth, reco_list))\n",
    "    return np.array(tmp_results)\n",
    "\n",
    "\n",
    "def sequence_sequential_evaluation(recommender, seq, evaluation_functions, user, given_k, look_ahead, top_n, step):\n",
    "    if given_k < 0:\n",
    "        given_k = len(seq) + given_k\n",
    "\n",
    "    eval_res = 0.0\n",
    "    eval_cnt = 0\n",
    "    for gk in range(given_k, len(seq), step):\n",
    "        eval_res += evaluate_sequence(recommender, seq, evaluation_functions, user, gk, look_ahead, top_n)\n",
    "        eval_cnt += 1\n",
    "    return eval_res / eval_cnt\n",
    "\n",
    "def sequences_to_spfm_format(sequences, tmp_path='tmp/sequences.txt'):\n",
    "    \"\"\"\n",
    "    Convert a list of sequences to SPFM format and write them to `tmp_path`\n",
    "    :param sequences: the list of sequences\n",
    "    :param tmp_path: the path where sequences will be written in the SPFM format\n",
    "    \"\"\"\n",
    "    basedir = os.path.split(tmp_path)[0]\n",
    "    os.makedirs(basedir, exist_ok=True)\n",
    "    with open(tmp_path, 'w') as fout:\n",
    "        for s in sequences:\n",
    "            fout.write(' -1 '.join(map(str, s)))\n",
    "            fout.write(' -2\\n')\n",
    "\n",
    "def create_seq_db_filter_top_k(path, topk=0, last_months=0):\n",
    "    file = load_and_adapt(path, last_months=last_months)\n",
    "    file['item_id'] = file['item_id'].astype(str)\n",
    "\n",
    "    c = Counter(list(file['item_id']))\n",
    "\n",
    "    if topk > 1:\n",
    "        keeper = set([x[0] for x in c.most_common(topk)])\n",
    "        file = file[file['item_id'].isin(keeper)]\n",
    "    print(file[file[\"session_id\"] == 357])\n",
    "    # group by session id and concat song_id\n",
    "    groups = file.groupby('session_id')\n",
    "    print(\"groups\", groups.count())\n",
    "    aggregated = pd.DataFrame(groups['item_id'].agg( lambda x: list(x)))\n",
    "    aggregated.rename(columns = {'item_id':'sequence'}, inplace = True)\n",
    "\n",
    "    print(\"aggregated\", aggregated.head(10))\n",
    "    init_ts = pd.DataFrame(groups['ts'].min())\n",
    "    users = pd.DataFrame(groups['user_id'].min())  # it's just fast, min doesn't actually make sense\n",
    "    print(\"init_ts\", init_ts, \"users\", users)\n",
    "    result = aggregated.join(init_ts).join(users)\n",
    "\n",
    "    print(result.head())\n",
    "    result.reset_index(inplace=True)\n",
    "    return result\n",
    "\n",
    "def last_session_out_split(data,\n",
    "                           user_key='user_id',\n",
    "                           session_key='session_id',\n",
    "                           time_key='ts'):\n",
    "    \"\"\"\n",
    "    Assign the last session of every user to the test set and the remaining ones to the training set\n",
    "    \"\"\"\n",
    "    sessions = data.sort_values(by=[user_key, time_key]).groupby(user_key)[session_key]\n",
    "    last_session = sessions.last()\n",
    "    train = data[~data.session_id.isin(last_session.values)].copy()\n",
    "    test = data[data.session_id.isin(last_session.values)].copy()\n",
    "    train, test = clean_split(train, test)\n",
    "    return train, test\n",
    "\n",
    "def precision(ground_truth, prediction):\n",
    "    \"\"\"\n",
    "    Compute Precision metric\n",
    "    :param ground_truth: the ground truth set or sequence\n",
    "    :param prediction: the predicted set or sequence\n",
    "    :return: the value of the metric\n",
    "    \"\"\"\n",
    "    ground_truth = remove_duplicates(ground_truth)\n",
    "    prediction = remove_duplicates(prediction)\n",
    "    precision_score = count_a_in_b_unique(prediction, ground_truth) / float(len(prediction))\n",
    "    assert 0 <= precision_score <= 1\n",
    "    return precision_score\n",
    "\n",
    "def recall(ground_truth, prediction):\n",
    "    \"\"\"\n",
    "    Compute Recall metric\n",
    "    :param ground_truth: the ground truth set or sequence\n",
    "    :param prediction: the predicted set or sequence\n",
    "    :return: the value of the metric\n",
    "    \"\"\"\n",
    "    ground_truth = remove_duplicates(ground_truth)\n",
    "    prediction = remove_duplicates(prediction)\n",
    "    recall_score = 0 if len(prediction) == 0 else count_a_in_b_unique(prediction, ground_truth) / float(\n",
    "        len(ground_truth))\n",
    "    assert 0 <= recall_score <= 1\n",
    "    return recall_score\n",
    "\n",
    "def mrr(ground_truth, prediction):\n",
    "    \"\"\"\n",
    "    Compute Mean Reciprocal Rank metric. Reciprocal Rank is set 0 if no predicted item is in contained the ground truth.\n",
    "    :param ground_truth: the ground truth set or sequence\n",
    "    :param prediction: the predicted set or sequence\n",
    "    :return: the value of the metric\n",
    "    \"\"\"\n",
    "    rr = 0.\n",
    "    for rank, p in enumerate(prediction):\n",
    "        if p in ground_truth:\n",
    "            rr = 1. / (rank + 1)\n",
    "            break\n",
    "    return rr\n",
    "\n",
    "class ISeqRecommender(object):\n",
    "    \"\"\"Abstract Recommender class\"\"\"\n",
    "\n",
    "    logging.basicConfig(level=logging.INFO, format='%(asctime)s - %(levelname)s - %(message)s')\n",
    "    logger = logging.getLogger()\n",
    "\n",
    "    def __init__(self):\n",
    "        super(ISeqRecommender, self).__init__()\n",
    "\n",
    "    def fit(self, train_data):\n",
    "        pass\n",
    "\n",
    "    def recommend(self, user_profile, user_id=None):\n",
    "        \"\"\"\n",
    "        Given the user profile return a list of recommendation\n",
    "        :param user_profile: the user profile as a list of item identifiers\n",
    "        :param user_id: (optional) the user id\n",
    "        :return: list of recommendations e.g. [([2], 0.875), ([6], 1.0)]\n",
    "        \"\"\"\n",
    "        pass\n",
    "\n",
    "    @staticmethod\n",
    "    def get_recommendation_list(recommendation):\n",
    "        return list(map(lambda x: x[0], recommendation))\n",
    "\n",
    "    @staticmethod\n",
    "    def get_recommendation_confidence_list(recommendation):\n",
    "        return list(map(lambda x: x[1], recommendation))\n",
    "\n",
    "    def activate_debug_print(self):\n",
    "        self.logger.setLevel(logging.DEBUG)\n",
    "\n",
    "    def deactivate_debug_print(self):\n",
    "        self.logger.setLevel(logging.INFO)\n",
    "\n",
    "class Prod2VecRecommender(ISeqRecommender):\n",
    "    \"\"\"\n",
    "    Implementation of the Prod2Vec skipgram model from\n",
    "    Grbovic Mihajlo, Vladan Radosavljevic, Nemanja Djuric, Narayan Bhamidipati, Jaikit Savla, Varun Bhagwan, and Doug Sharp.\n",
    "    \"E-commerce in your inbox: Product recommendations at scale.\"\n",
    "    In Proceedings of the 21th ACM SIGKDD International Conference on Knowledge Discovery and Data Mining,\n",
    "    pp. 1809-1818. ACM, 2015.\n",
    "    \"\"\"\n",
    "\n",
    "    logging.basicConfig(level=logging.INFO, format='%(asctime)s - %(levelname)s - %(message)s')\n",
    "\n",
    "    def __init__(self, min_count=2, size=100, window=5, decay_alpha=0.9, workers=4):\n",
    "        \"\"\"\n",
    "        :param min_count: (optional) the minimum item frequency. Items less frequent that min_count will be pruned\n",
    "        :param size: (optional) the size of the embeddings\n",
    "        :param window: (optional) the size of the context window\n",
    "        :param decay_alpha: (optional) the exponential decay factor used to discount the similarity scores for items\n",
    "                back in the user profile. Lower values mean higher discounting of past user interactions. Allows values in [0-1].\n",
    "        :param workers: (optional) the number of threads used for training\n",
    "        \"\"\"\n",
    "        super(Prod2VecRecommender, self).__init__()\n",
    "        self.min_count = min_count\n",
    "        self.size = size\n",
    "        self.window = window\n",
    "        self.decay_alpha = decay_alpha\n",
    "        self.workers = workers\n",
    "\n",
    "    def __str__(self):\n",
    "        return 'Prod2VecRecommender(min_count={min_count}, ' \\\n",
    "               'size={size}, ' \\\n",
    "               'window={window}, ' \\\n",
    "               'decay_alpha={decay_alpha}, ' \\\n",
    "               'workers={workers})'.format(**self.__dict__)\n",
    "\n",
    "    def fit(self, train_data):\n",
    "        sequences = train_data['sequence'].values\n",
    "        self.model = gensim.models.Word2Vec(sequences,\n",
    "                                            min_count=self.min_count,\n",
    "                                            window=self.window,\n",
    "                                            hs=1,\n",
    "                                            size=self.size,\n",
    "                                            sg=1,\n",
    "                                            workers=self.workers)\n",
    "\n",
    "    def recommend(self, user_profile, user_id=None):\n",
    "        user_profile = list(map(str, user_profile))\n",
    "        rec = []\n",
    "        try:\n",
    "            # iterate the user profile backwards\n",
    "            for i, item in enumerate(user_profile[::-1]):\n",
    "                ms = self.model.most_similar(positive=item)\n",
    "                # apply exponential decay to the similarity scores\n",
    "                decay = self.decay_alpha ** i\n",
    "                ms = [(x[0], decay * x[1]) for x in ms]\n",
    "                rec.extend(ms)\n",
    "            # sort items by similarity score\n",
    "            rec = sorted(rec, key=lambda x: -x[1])\n",
    "        except KeyError:\n",
    "            rec = []\n",
    "        return [([x[0]], x[1]) for x in rec]\n",
    "\n",
    "def load_and_adapt(path, last_months=0):\n",
    "    file_ext = os.path.splitext(path)[-1]\n",
    "    if file_ext == '.csv':\n",
    "        data = pd.read_csv(path, header=0)\n",
    "    elif file_ext == '.hdf':\n",
    "        data = pd.read_hdf(path)\n",
    "    else:\n",
    "        raise ValueError('Unsupported file {} having extension {}'.format(path, file_ext))\n",
    "\n",
    "    col_names = ['session_id', 'user_id', 'item_id', 'ts'] + data.columns.values.tolist()[4:]\n",
    "    data.columns = col_names\n",
    "\n",
    "    if last_months > 0:\n",
    "        def add_months(sourcedate, months):\n",
    "            month = sourcedate.month - 1 + months\n",
    "            year = int(sourcedate.year + month / 12)\n",
    "            month = month % 12 + 1\n",
    "            day = min(sourcedate.day, calendar.monthrange(year, month)[1])\n",
    "            return datetime.date(year, month, day)\n",
    "\n",
    "        lastdate = datetime.datetime.fromtimestamp(data.ts.max())\n",
    "        firstdate = add_months(lastdate, -last_months)\n",
    "        initial_unix = time.mktime(firstdate.timetuple())\n",
    "\n",
    "        # filter out older interactions\n",
    "        data = data[data['ts'] >= initial_unix]\n",
    "\n",
    "    return data\n",
    "\n",
    "def clean_split(train, test):\n",
    "    \"\"\"\n",
    "    Remove new items from the test set.\n",
    "    :param train: The training set.\n",
    "    :param test: The test set.\n",
    "    :return: The cleaned training and test sets.\n",
    "    \"\"\"\n",
    "    train_items = set()\n",
    "    train['sequence'].apply(lambda seq: train_items.update(set(seq)))\n",
    "    test['sequence'] = test['sequence'].apply(lambda seq: [it for it in seq if it in train_items])\n",
    "    return train, test"
   ]
  },
  {
   "cell_type": "code",
   "execution_count": 32,
   "metadata": {},
   "outputs": [],
   "source": [
    "def get_test_sequences(test_data, given_k):\n",
    "    # we can run evaluation only over sequences longer than abs(LAST_K)\n",
    "    test_sequences = test_data.loc[test_data['sequence'].map(len) > abs(given_k), 'sequence'].values\n",
    "    return test_sequences"
   ]
  },
  {
   "cell_type": "markdown",
   "metadata": {},
   "source": [
    "<a id='load_the_dataset'></a>"
   ]
  },
  {
   "cell_type": "markdown",
   "metadata": {},
   "source": [
    "# 1. Load the dataset\n",
    "\n",
    "For this hands-on session we will use a dataset of user-listening sessions crawled from [last.fm](https://www.last.fm/). In detail, we will use a subset of the following dataset:\n",
    "\n",
    "* 30Music listening and playlists dataset, Turrin et al., ACM RecSys 2015 ([paper](https://home.deib.polimi.it/pagano/portfolio/papers/30Musiclisteningandplaylistsdataset.pdf))"
   ]
  },
  {
   "cell_type": "code",
   "execution_count": 33,
   "metadata": {},
   "outputs": [],
   "source": [
    "# unzip the dataset, if you haven't already done it\n",
    "# ! unzip datasets/sessions.zip -d datasets"
   ]
  },
  {
   "cell_type": "code",
   "execution_count": 34,
   "metadata": {},
   "outputs": [
    {
     "name": "stdout",
     "output_type": "stream",
     "text": [
      "        session_id  user_id item_id          ts  playtime\n",
      "169856         357     4296     793  1421003874       101\n",
      "169857         357     4296    3489  1421006174       308\n",
      "groups             user_id  item_id  ts  playtime\n",
      "session_id                                \n",
      "357               2        2   2         2\n",
      "359               1        1   1         1\n",
      "394               1        1   1         1\n",
      "4127              6        6   6         6\n",
      "6400              2        2   2         2\n",
      "...             ...      ...  ..       ...\n",
      "2758111           1        1   1         1\n",
      "2758373           1        1   1         1\n",
      "2761080           2        2   2         2\n",
      "2762214           2        2   2         2\n",
      "2762867           3        3   3         3\n",
      "\n",
      "[6825 rows x 4 columns]\n",
      "aggregated                                         sequence\n",
      "session_id                                      \n",
      "357                                  [793, 3489]\n",
      "359                                       [1762]\n",
      "394                                       [1256]\n",
      "4127        [1948, 1364, 2060, 1115, 6488, 2060]\n",
      "6400                                 [687, 1394]\n",
      "6930              [630, 631, 632, 633, 634, 635]\n",
      "7861                                       [501]\n",
      "8131                                      [6488]\n",
      "8913                                      [1114]\n",
      "9795                                      [1719]\n",
      "init_ts                     ts\n",
      "session_id            \n",
      "357         1421003874\n",
      "359         1421018535\n",
      "394         1421007470\n",
      "4127        1421416896\n",
      "6400        1420807778\n",
      "...                ...\n",
      "2758111     1420674830\n",
      "2758373     1421711738\n",
      "2761080     1421369221\n",
      "2762214     1421582024\n",
      "2762867     1419847441\n",
      "\n",
      "[6825 rows x 1 columns] users             user_id\n",
      "session_id         \n",
      "357            4296\n",
      "359            4296\n",
      "394           30980\n",
      "4127          28117\n",
      "6400          35247\n",
      "...             ...\n",
      "2758111        5309\n",
      "2758373       34448\n",
      "2761080       12223\n",
      "2762214         997\n",
      "2762867         894\n",
      "\n",
      "[6825 rows x 1 columns]\n",
      "                                        sequence          ts  user_id\n",
      "session_id                                                           \n",
      "357                                  [793, 3489]  1421003874     4296\n",
      "359                                       [1762]  1421018535     4296\n",
      "394                                       [1256]  1421007470    30980\n",
      "4127        [1948, 1364, 2060, 1115, 6488, 2060]  1421416896    28117\n",
      "6400                                 [687, 1394]  1420807778    35247\n"
     ]
    }
   ],
   "source": [
    "dataset_path = 'datasets/sessions_sample_10.csv'\n",
    "# load this sample if you experience a severe slowdown with the previous dataset\n",
    "#dataset_path = 'datasets/sessions_sample_10.csv'\n",
    "\n",
    "# for the sake of speed, let's keep only the top-1k most popular items in the last month\n",
    "dataset = create_seq_db_filter_top_k(path=dataset_path, topk=1000, last_months=1) "
   ]
  },
  {
   "cell_type": "markdown",
   "metadata": {},
   "source": [
    "Let's see at how the dataset looks like"
   ]
  },
  {
   "cell_type": "code",
   "execution_count": 35,
   "metadata": {},
   "outputs": [
    {
     "data": {
      "text/html": [
       "<div>\n",
       "<style scoped>\n",
       "    .dataframe tbody tr th:only-of-type {\n",
       "        vertical-align: middle;\n",
       "    }\n",
       "\n",
       "    .dataframe tbody tr th {\n",
       "        vertical-align: top;\n",
       "    }\n",
       "\n",
       "    .dataframe thead th {\n",
       "        text-align: right;\n",
       "    }\n",
       "</style>\n",
       "<table border=\"1\" class=\"dataframe\">\n",
       "  <thead>\n",
       "    <tr style=\"text-align: right;\">\n",
       "      <th></th>\n",
       "      <th>session_id</th>\n",
       "      <th>sequence</th>\n",
       "      <th>ts</th>\n",
       "      <th>user_id</th>\n",
       "    </tr>\n",
       "  </thead>\n",
       "  <tbody>\n",
       "    <tr>\n",
       "      <th>0</th>\n",
       "      <td>357</td>\n",
       "      <td>[793, 3489]</td>\n",
       "      <td>1421003874</td>\n",
       "      <td>4296</td>\n",
       "    </tr>\n",
       "    <tr>\n",
       "      <th>1</th>\n",
       "      <td>359</td>\n",
       "      <td>[1762]</td>\n",
       "      <td>1421018535</td>\n",
       "      <td>4296</td>\n",
       "    </tr>\n",
       "    <tr>\n",
       "      <th>2</th>\n",
       "      <td>394</td>\n",
       "      <td>[1256]</td>\n",
       "      <td>1421007470</td>\n",
       "      <td>30980</td>\n",
       "    </tr>\n",
       "    <tr>\n",
       "      <th>3</th>\n",
       "      <td>4127</td>\n",
       "      <td>[1948, 1364, 2060, 1115, 6488, 2060]</td>\n",
       "      <td>1421416896</td>\n",
       "      <td>28117</td>\n",
       "    </tr>\n",
       "    <tr>\n",
       "      <th>4</th>\n",
       "      <td>6400</td>\n",
       "      <td>[687, 1394]</td>\n",
       "      <td>1420807778</td>\n",
       "      <td>35247</td>\n",
       "    </tr>\n",
       "  </tbody>\n",
       "</table>\n",
       "</div>"
      ],
      "text/plain": [
       "   session_id                              sequence          ts  user_id\n",
       "0         357                           [793, 3489]  1421003874     4296\n",
       "1         359                                [1762]  1421018535     4296\n",
       "2         394                                [1256]  1421007470    30980\n",
       "3        4127  [1948, 1364, 2060, 1115, 6488, 2060]  1421416896    28117\n",
       "4        6400                           [687, 1394]  1420807778    35247"
      ]
     },
     "execution_count": 35,
     "metadata": {},
     "output_type": "execute_result"
    }
   ],
   "source": [
    "dataset.head()"
   ]
  },
  {
   "cell_type": "markdown",
   "metadata": {},
   "source": [
    "Let's show some statistics about the dataset"
   ]
  },
  {
   "cell_type": "code",
   "execution_count": 36,
   "metadata": {},
   "outputs": [],
   "source": [
    "from collections import Counter\n",
    "cnt = Counter()\n",
    "dataset.sequence.map(cnt.update);"
   ]
  },
  {
   "cell_type": "code",
   "execution_count": 37,
   "metadata": {},
   "outputs": [
    {
     "name": "stdout",
     "output_type": "stream",
     "text": [
      "Number of items: 1000\n",
      "Number of users: 4196\n",
      "Number of sessions: 6825\n",
      "\n",
      "Session length:\n",
      "\tAverage: 4.27\n",
      "\tMedian: 3.0\n",
      "\tMin: 1\n",
      "\tMax: 148\n",
      "Sessions per user:\n",
      "\tAverage: 1.63\n",
      "\tMedian: 1.0\n",
      "\tMin: 1\n",
      "\tMax: 13\n"
     ]
    }
   ],
   "source": [
    "sequence_length = dataset.sequence.map(len).values\n",
    "n_sessions_per_user = dataset.groupby('user_id').size()\n",
    "\n",
    "print('Number of items: {}'.format(len(cnt)))\n",
    "print('Number of users: {}'.format(dataset.user_id.nunique()))\n",
    "print('Number of sessions: {}'.format(len(dataset)) )\n",
    "\n",
    "print('\\nSession length:\\n\\tAverage: {:.2f}\\n\\tMedian: {}\\n\\tMin: {}\\n\\tMax: {}'.format(\n",
    "    sequence_length.mean(), \n",
    "    np.quantile(sequence_length, 0.5), \n",
    "    sequence_length.min(), \n",
    "    sequence_length.max()))\n",
    "\n",
    "print('Sessions per user:\\n\\tAverage: {:.2f}\\n\\tMedian: {}\\n\\tMin: {}\\n\\tMax: {}'.format(\n",
    "    n_sessions_per_user.mean(), \n",
    "    np.quantile(n_sessions_per_user, 0.5), \n",
    "    n_sessions_per_user.min(), \n",
    "    n_sessions_per_user.max()))"
   ]
  },
  {
   "cell_type": "code",
   "execution_count": 38,
   "metadata": {},
   "outputs": [
    {
     "name": "stdout",
     "output_type": "stream",
     "text": [
      "Most popular items: [('443', 207), ('1065', 156), ('67', 146), ('2308', 138), ('658', 131)]\n"
     ]
    }
   ],
   "source": [
    "print('Most popular items: {}'.format(cnt.most_common(5)))"
   ]
  },
  {
   "cell_type": "markdown",
   "metadata": {},
   "source": [
    "<a id='split_the_dataset'></a>"
   ]
  },
  {
   "cell_type": "markdown",
   "metadata": {},
   "source": [
    "# 2. Split the dataset"
   ]
  },
  {
   "cell_type": "markdown",
   "metadata": {},
   "source": [
    "For simplicity, let's split the dataset by assigning the **last session** of every user to the **test set**, and **all the previous** ones to the **training set**."
   ]
  },
  {
   "cell_type": "code",
   "execution_count": 39,
   "metadata": {},
   "outputs": [
    {
     "name": "stdout",
     "output_type": "stream",
     "text": [
      "Train sessions: 2629 - Test sessions: 4196\n"
     ]
    }
   ],
   "source": [
    "train_data, test_data = last_session_out_split(dataset)\n",
    "print(\"Train sessions: {} - Test sessions: {}\".format(len(train_data), len(test_data)))"
   ]
  },
  {
   "cell_type": "markdown",
   "metadata": {},
   "source": [
    "<a id='fitting'></a>"
   ]
  },
  {
   "cell_type": "markdown",
   "metadata": {},
   "source": [
    "# 3. Fitting the recommender\n",
    "\n",
    "Here we fit the recommedation algorithm over the sessions in the training set.  \n",
    "\n",
    "This is simplified implementation of the following:\n",
    "\n",
    "_Grbovic, Mihajlo, Vladan Radosavljevic, Nemanja Djuric, Narayan Bhamidipati,\n",
    "Jaikit Savla, Varun Bhagwan, and Doug Sharp. \"E-commerce in your inbox: Product recommendations at scale.\"\n",
    " In Proceedings of the 21th ACM SIGKDD International Conference on Knowledge Discovery and Data Mining, pp. 1809-1818. ACM, 2015._\n",
    " \n",
    "This implementation uses the `gensim` implementation of Word2Vec to compute item embeddings using the skip-gram model, as depicted below:\n",
    "\n",
    "<img src=\"images/prod2vec.png\" width=\"250px\" />\n",
    "\n",
    "Recommendations are generated by returning the k-nearest neighbors of the last items in the user profile, whose relevance is weighted using a simple *exponential decay* (the *last item* in the user profile is the *most relevant* one, and the *first item* the *least relevant*).\n",
    "\n",
    "The original paper contains other variants of this algorithm (namely bagged-prod2vec and prod2vec-cluster) which are not subject of this tutorial. \n",
    "\n",
    "The class `Prod2VecRecommender` has the following initialization hyper-parameters:\n",
    "* `min_count`: the minimum item frequency. Items less frequent that min_count will be pruned\n",
    "* `size`: the size of the embeddings\n",
    "* `window`: the size of the context window\n",
    "* `decay_alpha`: the exponential decay factor used to discount the similarity scores for items  back in the user profile. Lower values mean higher discounting of past user interactions. Allows values in [0-1]\n",
    "* `workers`: the number of threads used for training\n"
   ]
  },
  {
   "cell_type": "code",
   "execution_count": 40,
   "metadata": {
    "scrolled": true
   },
   "outputs": [
    {
     "name": "stderr",
     "output_type": "stream",
     "text": [
      "2022-02-03 22:51:59,925 - WARNING - consider setting layer size to a multiple of 4 for greater performance\n",
      "2022-02-03 22:51:59,929 - INFO - collecting all words and their counts\n",
      "2022-02-03 22:51:59,933 - INFO - PROGRESS: at sentence #0, processed 0 words, keeping 0 word types\n",
      "2022-02-03 22:51:59,950 - INFO - collected 999 word types from a corpus of 12240 raw words and 2629 sentences\n",
      "2022-02-03 22:51:59,953 - INFO - Loading a fresh vocabulary\n",
      "2022-02-03 22:51:59,960 - INFO - min_count=2 retains 996 unique words (99% of original 999, drops 3)\n",
      "2022-02-03 22:51:59,962 - INFO - min_count=2 leaves 12237 word corpus (99% of original 12240, drops 3)\n",
      "2022-02-03 22:51:59,976 - INFO - deleting the raw counts dictionary of 999 items\n",
      "2022-02-03 22:51:59,979 - INFO - sample=0.001 downsamples 34 most-common words\n",
      "2022-02-03 22:51:59,982 - INFO - downsampling leaves estimated 11933 word corpus (97.5% of prior 12237)\n",
      "2022-02-03 22:51:59,987 - INFO - constructing a huffman tree from 996 words\n",
      "2022-02-03 22:52:00,083 - INFO - built huffman tree with maximum node depth 13\n",
      "2022-02-03 22:52:00,092 - INFO - estimated required memory for 996 words and 50 dimensions: 1294800 bytes\n",
      "2022-02-03 22:52:00,095 - INFO - resetting layer weights\n",
      "2022-02-03 22:52:00,680 - INFO - training model with 4 workers on 996 vocabulary and 50 features, using sg=1 hs=1 sample=0.001 negative=5 window=5\n",
      "2022-02-03 22:52:00,712 - INFO - worker thread finished; awaiting finish of 3 more threads\n",
      "2022-02-03 22:52:00,716 - INFO - worker thread finished; awaiting finish of 2 more threads\n",
      "2022-02-03 22:52:00,779 - INFO - worker thread finished; awaiting finish of 1 more threads\n",
      "2022-02-03 22:52:00,916 - INFO - worker thread finished; awaiting finish of 0 more threads\n",
      "2022-02-03 22:52:00,919 - INFO - EPOCH - 1 : training on 12240 raw words (11920 effective words) took 0.2s, 52553 effective words/s\n",
      "2022-02-03 22:52:00,946 - INFO - worker thread finished; awaiting finish of 3 more threads\n",
      "2022-02-03 22:52:00,954 - INFO - worker thread finished; awaiting finish of 2 more threads\n",
      "2022-02-03 22:52:01,018 - INFO - worker thread finished; awaiting finish of 1 more threads\n",
      "2022-02-03 22:52:01,165 - INFO - worker thread finished; awaiting finish of 0 more threads\n",
      "2022-02-03 22:52:01,168 - INFO - EPOCH - 2 : training on 12240 raw words (11939 effective words) took 0.2s, 52586 effective words/s\n",
      "2022-02-03 22:52:01,193 - INFO - worker thread finished; awaiting finish of 3 more threads\n",
      "2022-02-03 22:52:01,201 - INFO - worker thread finished; awaiting finish of 2 more threads\n",
      "2022-02-03 22:52:01,264 - INFO - worker thread finished; awaiting finish of 1 more threads\n",
      "2022-02-03 22:52:01,419 - INFO - worker thread finished; awaiting finish of 0 more threads\n",
      "2022-02-03 22:52:01,421 - INFO - EPOCH - 3 : training on 12240 raw words (11954 effective words) took 0.2s, 49398 effective words/s\n",
      "2022-02-03 22:52:01,452 - INFO - worker thread finished; awaiting finish of 3 more threads\n",
      "2022-02-03 22:52:01,458 - INFO - worker thread finished; awaiting finish of 2 more threads\n",
      "2022-02-03 22:52:01,524 - INFO - worker thread finished; awaiting finish of 1 more threads\n",
      "2022-02-03 22:52:01,661 - INFO - worker thread finished; awaiting finish of 0 more threads\n",
      "2022-02-03 22:52:01,663 - INFO - EPOCH - 4 : training on 12240 raw words (11935 effective words) took 0.2s, 52142 effective words/s\n",
      "2022-02-03 22:52:01,684 - INFO - worker thread finished; awaiting finish of 3 more threads\n",
      "2022-02-03 22:52:01,688 - INFO - worker thread finished; awaiting finish of 2 more threads\n",
      "2022-02-03 22:52:01,735 - INFO - worker thread finished; awaiting finish of 1 more threads\n",
      "2022-02-03 22:52:01,854 - INFO - worker thread finished; awaiting finish of 0 more threads\n",
      "2022-02-03 22:52:01,856 - INFO - EPOCH - 5 : training on 12240 raw words (11937 effective words) took 0.2s, 68106 effective words/s\n",
      "2022-02-03 22:52:01,859 - INFO - training on a 61200 raw words (59685 effective words) took 1.2s, 50736 effective words/s\n",
      "2022-02-03 22:52:01,861 - WARNING - under 10 jobs per worker: consider setting a smaller `batch_words' for smoother alpha decay\n"
     ]
    }
   ],
   "source": [
    "recommender = Prod2VecRecommender(min_count=2, \n",
    "                                  size=50, \n",
    "                                  window=5,\n",
    "                                  decay_alpha=0.9,\n",
    "                                  workers=4)\n",
    "recommender.fit(train_data)"
   ]
  },
  {
   "cell_type": "markdown",
   "metadata": {},
   "source": [
    "<a id='seq_evaluation'></a>\n"
   ]
  },
  {
   "cell_type": "markdown",
   "metadata": {},
   "source": [
    "# 4. Sequential evaluation\n",
    "\n",
    "In the evaluation of sequence-aware recommenders, each sequence in the test set is split into:\n",
    "- the _user profile_, used to compute recommendations, is composed by the first *k* events in the sequence;\n",
    "- the _ground truth_, used for performance evaluation, is composed by the remainder of the sequence.\n",
    "\n",
    "In the cells below, you can control the dimension of the _user profile_ by assigning a **positive** value to `GIVEN_K`, which correspond to the number of events from the beginning of the sequence that will be assigned to the initial user profile. This ensures that each user profile in the test set will have exactly the same initial size, but the size of the ground truth will change for every sequence.\n",
    "\n",
    "Alternatively, by assigning a **negative** value to `GIVEN_K`, you will set the initial size of the _ground truth_. In this way the _ground truth_ will have the same size for all sequences, but the dimension of the user profile will differ."
   ]
  },
  {
   "cell_type": "code",
   "execution_count": 41,
   "metadata": {},
   "outputs": [],
   "source": [
    "METRICS = {'precision':precision, \n",
    "           'recall':recall,\n",
    "           'mrr': mrr}\n",
    "TOPN = 10 # length of the recommendation list"
   ]
  },
  {
   "cell_type": "markdown",
   "metadata": {},
   "source": [
    "<a id='eval_seq_rev'></a>"
   ]
  },
  {
   "cell_type": "markdown",
   "metadata": {},
   "source": [
    "## 4.1 Evaluation with sequentially revealed user-profiles\n",
    "\n",
    "Here we evaluate the quality of the recommendations in a setting in which user profiles are revealed _sequentially_.\n",
    "\n",
    "The _user profile_ starts from the first `GIVEN_K` events (or, alternatively, from the last `-GIVEN_K` events if `GIVEN_K<0`).  \n",
    "The recommendations are evaluated against the next `LOOK_AHEAD` events (the _ground truth_).  \n",
    "The _user profile_ is next expanded to the next `STEP` events, the ground truth is scrolled forward accordingly, and the evaluation continues until the sequence ends.\n",
    "\n",
    "In typical **next-item recommendation**, we start with `GIVEN_K=1`, generate a set of **alternatives** that will evaluated against the next event in the sequence (`LOOK_AHEAD=1`), move forward of one step (`STEP=1`) and repeat until the sequence ends.\n",
    "\n",
    "You can set the `LOOK_AHEAD='all'` to see what happens if you had to recommend a **whole sequence** instead of a set of a set of alternatives to a user.\n",
    "\n",
    "NOTE: Metrics are averaged over each sequence first, then averaged over all test sequences.\n",
    "\n",
    "** (TODO) Try out with different evaluation settings to see how the recommandation quality changes. **\n",
    "\n",
    "\n",
    "![](gifs/sequential_eval.gif)"
   ]
  },
  {
   "cell_type": "code",
   "execution_count": 42,
   "metadata": {},
   "outputs": [],
   "source": [
    "# GIVEN_K=1, LOOK_AHEAD=1, STEP=1 corresponds to the classical next-item evaluation\n",
    "GIVEN_K = 1\n",
    "LOOK_AHEAD = 1\n",
    "STEP = 1"
   ]
  },
  {
   "cell_type": "code",
   "execution_count": 43,
   "metadata": {},
   "outputs": [
    {
     "name": "stdout",
     "output_type": "stream",
     "text": [
      "2905 sequences available for evaluation\n"
     ]
    },
    {
     "name": "stderr",
     "output_type": "stream",
     "text": [
      "  0%|                                                                                         | 0/2905 [00:00<?, ?it/s]C:\\Users\\sunny\\AppData\\Local\\Temp\\ipykernel_8100\\2595860117.py:300: DeprecationWarning: Call to deprecated `most_similar` (Method will be removed in 4.0.0, use self.wv.most_similar() instead).\n",
      "  ms = self.model.most_similar(positive=item)\n",
      "2022-02-03 22:52:01,927 - INFO - precomputing L2-norms of word weight vectors\n",
      "100%|██████████████████████████████████████████████████████████████████████████████| 2905/2905 [00:58<00:00, 49.57it/s]\n"
     ]
    }
   ],
   "source": [
    "test_sequences = get_test_sequences(test_data, GIVEN_K)\n",
    "print('{} sequences available for evaluation'.format(len(test_sequences)))\n",
    "\n",
    "results = sequential_evaluation(recommender,\n",
    "                               test_sequences=test_sequences,\n",
    "                               given_k=GIVEN_K,\n",
    "                               look_ahead=LOOK_AHEAD,\n",
    "                               evaluation_functions=METRICS.values(),\n",
    "                               top_n=TOPN,\n",
    "                               scroll=True,  # scrolling averages metrics over all profile lengths\n",
    "                               step=STEP)"
   ]
  },
  {
   "cell_type": "code",
   "execution_count": 44,
   "metadata": {},
   "outputs": [
    {
     "name": "stdout",
     "output_type": "stream",
     "text": [
      "Sequential evaluation (GIVEN_K=1, LOOK_AHEAD=1, STEP=1)\n",
      "\tprecision@10: 0.0241\n",
      "\trecall@10: 0.2317\n",
      "\tmrr@10: 0.0959\n"
     ]
    }
   ],
   "source": [
    "print('Sequential evaluation (GIVEN_K={}, LOOK_AHEAD={}, STEP={})'.format(GIVEN_K, LOOK_AHEAD, STEP))\n",
    "for mname, mvalue in zip(METRICS.keys(), results):\n",
    "    print('\\t{}@{}: {:.4f}'.format(mname, TOPN, mvalue))"
   ]
  },
  {
   "cell_type": "markdown",
   "metadata": {},
   "source": [
    "<a id='eval_static'></a>"
   ]
  },
  {
   "cell_type": "markdown",
   "metadata": {},
   "source": [
    "## 4.2 Evaluation with \"static\" user-profiles\n",
    "\n",
    "Here we evaluate the quality of the recommendations in a setting in which user profiles are instead _static_.\n",
    "\n",
    "The _user profile_ starts from the first `GIVEN_K` events (or, alternatively, from the last `-GIVEN_K` events if `GIVEN_K<0`).  \n",
    "The recommendations are evaluated against the next `LOOK_AHEAD` events (the _ground truth_).  \n",
    "\n",
    "The user profile is *not extended* and the ground truth *doesn't move forward*.\n",
    "This allows to obtain \"snapshots\" of the recommendation performance for different user profile and ground truth lenghts.\n",
    "\n",
    "Also here you can set the `LOOK_AHEAD='all'` to see what happens if you had to recommend a **whole sequence** instead of a set of a set of alternatives to a user.\n",
    "\n",
    "**(TODO) Try out with different evaluation settings to see how the recommandation quality changes.**"
   ]
  },
  {
   "cell_type": "code",
   "execution_count": 45,
   "metadata": {},
   "outputs": [],
   "source": [
    "GIVEN_K = 1\n",
    "LOOK_AHEAD = 1\n",
    "STEP=1"
   ]
  },
  {
   "cell_type": "code",
   "execution_count": 46,
   "metadata": {},
   "outputs": [
    {
     "name": "stdout",
     "output_type": "stream",
     "text": [
      "2905 sequences available for evaluation\n"
     ]
    },
    {
     "name": "stderr",
     "output_type": "stream",
     "text": [
      "  0%|                                                                                         | 0/2905 [00:00<?, ?it/s]C:\\Users\\sunny\\AppData\\Local\\Temp\\ipykernel_8100\\2595860117.py:300: DeprecationWarning: Call to deprecated `most_similar` (Method will be removed in 4.0.0, use self.wv.most_similar() instead).\n",
      "  ms = self.model.most_similar(positive=item)\n",
      "100%|████████████████████████████████████████████████████████████████████████████| 2905/2905 [00:02<00:00, 1129.28it/s]\n"
     ]
    }
   ],
   "source": [
    "test_sequences = get_test_sequences(test_data, GIVEN_K)\n",
    "print('{} sequences available for evaluation'.format(len(test_sequences)))\n",
    "\n",
    "results = sequential_evaluation(recommender,\n",
    "                               test_sequences=test_sequences,\n",
    "                               given_k=GIVEN_K,\n",
    "                               look_ahead=LOOK_AHEAD,\n",
    "                               evaluation_functions=METRICS.values(),\n",
    "                               top_n=TOPN,\n",
    "                               scroll=False  # notice that scrolling is disabled!\n",
    "                              )  "
   ]
  },
  {
   "cell_type": "code",
   "execution_count": 47,
   "metadata": {},
   "outputs": [
    {
     "name": "stdout",
     "output_type": "stream",
     "text": [
      "Sequential evaluation (GIVEN_K=1, LOOK_AHEAD=1, STEP=1)\n",
      "\tprecision@10: 0.0214\n",
      "\trecall@10: 0.2145\n",
      "\tmrr@10: 0.0818\n"
     ]
    }
   ],
   "source": [
    "print('Sequential evaluation (GIVEN_K={}, LOOK_AHEAD={}, STEP={})'.format(GIVEN_K, LOOK_AHEAD, STEP))\n",
    "for mname, mvalue in zip(METRICS.keys(), results):\n",
    "    print('\\t{}@{}: {:.4f}'.format(mname, TOPN, mvalue))"
   ]
  },
  {
   "cell_type": "markdown",
   "metadata": {},
   "source": [
    "<a id='next-item'></a>"
   ]
  },
  {
   "cell_type": "markdown",
   "metadata": {},
   "source": [
    "## 5. Analysis of next-item recommendation\n",
    "\n",
    "Here we propose to analyse the performance of the recommender system in the scenario of *next-item recommendation* over the following dimensions:\n",
    "\n",
    "* the *length* of the **recommendation list**, and\n",
    "* the *length* of the **user profile**.\n",
    "\n",
    "NOTE: This evaluation is by no means exhaustive, as different the hyper-parameters of the recommendation algorithm should be *carefully tuned* before drawing any conclusions. Unfortunately, given the time constraints for this tutorial, we had to leave hyper-parameter tuning out. A very useful reference about careful evaluation of (session-based) recommenders can be found at:\n",
    "\n",
    "*  Evaluation of Session-based Recommendation Algorithms, Ludewig and Jannach, 2018 ([paper](https://arxiv.org/abs/1803.09587))"
   ]
  },
  {
   "cell_type": "markdown",
   "metadata": {},
   "source": [
    "<a id='next-item_list_length'></a>"
   ]
  },
  {
   "cell_type": "markdown",
   "metadata": {},
   "source": [
    "### 5.1 Evaluation for different recommendation list lengths"
   ]
  },
  {
   "cell_type": "code",
   "execution_count": 48,
   "metadata": {},
   "outputs": [],
   "source": [
    "GIVEN_K = 1\n",
    "LOOK_AHEAD = 1\n",
    "STEP = 1\n",
    "topn_list = [1, 5, 10, 20, 50, 100]"
   ]
  },
  {
   "cell_type": "code",
   "execution_count": 49,
   "metadata": {},
   "outputs": [
    {
     "name": "stdout",
     "output_type": "stream",
     "text": [
      "2905 sequences available for evaluation\n"
     ]
    }
   ],
   "source": [
    "# ensure that all sequences have the same minimum length \n",
    "test_sequences = get_test_sequences(test_data, GIVEN_K)\n",
    "print('{} sequences available for evaluation'.format(len(test_sequences)))"
   ]
  },
  {
   "cell_type": "code",
   "execution_count": 50,
   "metadata": {},
   "outputs": [
    {
     "name": "stdout",
     "output_type": "stream",
     "text": [
      "Evaluating recommendation lists with length: 1\n"
     ]
    },
    {
     "name": "stderr",
     "output_type": "stream",
     "text": [
      "  0%|                                                                                         | 0/2905 [00:00<?, ?it/s]C:\\Users\\sunny\\AppData\\Local\\Temp\\ipykernel_8100\\2595860117.py:300: DeprecationWarning: Call to deprecated `most_similar` (Method will be removed in 4.0.0, use self.wv.most_similar() instead).\n",
      "  ms = self.model.most_similar(positive=item)\n",
      "100%|██████████████████████████████████████████████████████████████████████████████| 2905/2905 [00:58<00:00, 49.68it/s]\n"
     ]
    },
    {
     "name": "stdout",
     "output_type": "stream",
     "text": [
      "Evaluating recommendation lists with length: 5\n"
     ]
    },
    {
     "name": "stderr",
     "output_type": "stream",
     "text": [
      "100%|██████████████████████████████████████████████████████████████████████████████| 2905/2905 [00:54<00:00, 53.77it/s]\n"
     ]
    },
    {
     "name": "stdout",
     "output_type": "stream",
     "text": [
      "Evaluating recommendation lists with length: 10\n"
     ]
    },
    {
     "name": "stderr",
     "output_type": "stream",
     "text": [
      "100%|██████████████████████████████████████████████████████████████████████████████| 2905/2905 [00:54<00:00, 53.03it/s]\n"
     ]
    },
    {
     "name": "stdout",
     "output_type": "stream",
     "text": [
      "Evaluating recommendation lists with length: 20\n"
     ]
    },
    {
     "name": "stderr",
     "output_type": "stream",
     "text": [
      "100%|██████████████████████████████████████████████████████████████████████████████| 2905/2905 [00:54<00:00, 53.02it/s]\n"
     ]
    },
    {
     "name": "stdout",
     "output_type": "stream",
     "text": [
      "Evaluating recommendation lists with length: 50\n"
     ]
    },
    {
     "name": "stderr",
     "output_type": "stream",
     "text": [
      "100%|██████████████████████████████████████████████████████████████████████████████| 2905/2905 [00:55<00:00, 52.29it/s]\n"
     ]
    },
    {
     "name": "stdout",
     "output_type": "stream",
     "text": [
      "Evaluating recommendation lists with length: 100\n"
     ]
    },
    {
     "name": "stderr",
     "output_type": "stream",
     "text": [
      "100%|██████████████████████████████████████████████████████████████████████████████| 2905/2905 [00:55<00:00, 52.44it/s]\n"
     ]
    }
   ],
   "source": [
    "res_list = []\n",
    "\n",
    "for topn in topn_list:\n",
    "    print('Evaluating recommendation lists with length: {}'.format(topn))\n",
    "    res_tmp = sequential_evaluation(recommender,\n",
    "                                   test_sequences=test_sequences,\n",
    "                                   given_k=GIVEN_K,\n",
    "                                   look_ahead=LOOK_AHEAD,\n",
    "                                   evaluation_functions=METRICS.values(),\n",
    "                                   top_n=topn,\n",
    "                                   scroll=True,  # here we average over all profile lengths\n",
    "                                   step=STEP)\n",
    "    mvalues = list(zip(METRICS.keys(), res_tmp))\n",
    "    res_list.append((topn, mvalues))"
   ]
  },
  {
   "cell_type": "code",
   "execution_count": 51,
   "metadata": {},
   "outputs": [
    {
     "data": {
      "image/png": "[encoded data removed]",
      "text/plain": [
       "<Figure size 1080x360 with 3 Axes>"
      ]
     },
     "metadata": {
      "needs_background": "light"
     },
     "output_type": "display_data"
    }
   ],
   "source": [
    "# show separate plots per metric\n",
    "fig, axes = plt.subplots(nrows=1, ncols=len(METRICS), figsize=(15,5))\n",
    "res_list_t = list(zip(*res_list))\n",
    "for midx, metric in enumerate(METRICS):\n",
    "    mvalues = [res_list_t[1][j][midx][1] for j in range(len(res_list_t[1]))]\n",
    "    ax = axes[midx]\n",
    "    ax.plot(topn_list, mvalues)\n",
    "    ax.set_title(metric)\n",
    "    ax.set_xticks(topn_list)\n",
    "    ax.set_xlabel('List length')"
   ]
  },
  {
   "cell_type": "markdown",
   "metadata": {},
   "source": [
    "<a id='next-item_profile_length'></a>"
   ]
  },
  {
   "cell_type": "markdown",
   "metadata": {},
   "source": [
    "### 5.2 Evaluation for different user profile lengths"
   ]
  },
  {
   "cell_type": "code",
   "execution_count": 52,
   "metadata": {},
   "outputs": [],
   "source": [
    "given_k_list = [1, 2, 3, 4]\n",
    "LOOK_AHEAD = 1\n",
    "STEP = 1\n",
    "TOPN = 10"
   ]
  },
  {
   "cell_type": "code",
   "execution_count": 53,
   "metadata": {},
   "outputs": [
    {
     "name": "stdout",
     "output_type": "stream",
     "text": [
      "1169 sequences available for evaluation\n",
      "Evaluating profiles having length: 1\n"
     ]
    },
    {
     "name": "stderr",
     "output_type": "stream",
     "text": [
      "  0%|                                                                                         | 0/1169 [00:00<?, ?it/s]C:\\Users\\sunny\\AppData\\Local\\Temp\\ipykernel_8100\\2595860117.py:300: DeprecationWarning: Call to deprecated `most_similar` (Method will be removed in 4.0.0, use self.wv.most_similar() instead).\n",
      "  ms = self.model.most_similar(positive=item)\n",
      "100%|████████████████████████████████████████████████████████████████████████████| 1169/1169 [00:00<00:00, 1200.46it/s]\n"
     ]
    },
    {
     "name": "stdout",
     "output_type": "stream",
     "text": [
      "Evaluating profiles having length: 2\n"
     ]
    },
    {
     "name": "stderr",
     "output_type": "stream",
     "text": [
      "100%|█████████████████████████████████████████████████████████████████████████████| 1169/1169 [00:01<00:00, 644.02it/s]\n"
     ]
    },
    {
     "name": "stdout",
     "output_type": "stream",
     "text": [
      "Evaluating profiles having length: 3\n"
     ]
    },
    {
     "name": "stderr",
     "output_type": "stream",
     "text": [
      "100%|█████████████████████████████████████████████████████████████████████████████| 1169/1169 [00:02<00:00, 468.81it/s]\n"
     ]
    },
    {
     "name": "stdout",
     "output_type": "stream",
     "text": [
      "Evaluating profiles having length: 4\n"
     ]
    },
    {
     "name": "stderr",
     "output_type": "stream",
     "text": [
      "100%|█████████████████████████████████████████████████████████████████████████████| 1169/1169 [00:03<00:00, 334.81it/s]\n"
     ]
    }
   ],
   "source": [
    "# ensure that all sequences have the same minimum length \n",
    "test_sequences = get_test_sequences(test_data, max(given_k_list))\n",
    "print('{} sequences available for evaluation'.format(len(test_sequences)))\n",
    "\n",
    "res_list = []\n",
    "\n",
    "for gk in given_k_list:\n",
    "    print('Evaluating profiles having length: {}'.format(gk))\n",
    "    res_tmp = sequential_evaluation(recommender,\n",
    "                                   test_sequences=test_sequences,\n",
    "                                   given_k=gk,\n",
    "                                   look_ahead=LOOK_AHEAD,\n",
    "                                   evaluation_functions=METRICS.values(),\n",
    "                                   top_n=TOPN,\n",
    "                                   scroll=False,  # here we stop at each profile length\n",
    "                                   step=STEP)\n",
    "    mvalues = list(zip(METRICS.keys(), res_tmp))\n",
    "    res_list.append((gk, mvalues))"
   ]
  },
  {
   "cell_type": "code",
   "execution_count": 54,
   "metadata": {},
   "outputs": [
    {
     "data": {
      "image/png": "[encoded data removed]",
      "text/plain": [
       "<Figure size 1080x360 with 3 Axes>"
      ]
     },
     "metadata": {
      "needs_background": "light"
     },
     "output_type": "display_data"
    }
   ],
   "source": [
    "# show separate plots per metric\n",
    "fig, axes = plt.subplots(nrows=1, ncols=len(METRICS), figsize=(15,5))\n",
    "res_list_t = list(zip(*res_list))\n",
    "for midx, metric in enumerate(METRICS):\n",
    "    mvalues = [res_list_t[1][j][midx][1] for j in range(len(res_list_t[1]))]\n",
    "    ax = axes[midx]\n",
    "    ax.plot(given_k_list, mvalues)\n",
    "    ax.set_title(metric)\n",
    "    ax.set_xticks(given_k_list)\n",
    "    ax.set_xlabel('Profile length')"
   ]
  },
  {
   "cell_type": "code",
   "execution_count": null,
   "metadata": {},
   "outputs": [],
   "source": []
  }
 ],
 "metadata": {
  "kernelspec": {
   "display_name": "Python 3 (ipykernel)",
   "language": "python",
   "name": "python3"
  },
  "language_info": {
   "codemirror_mode": {
    "name": "ipython",
    "version": 3
   },
   "file_extension": ".py",
   "mimetype": "text/x-python",
   "name": "python",
   "nbconvert_exporter": "python",
   "pygments_lexer": "ipython3",
   "version": "3.8.0"
  }
 },
 "nbformat": 4,
 "nbformat_minor": 2
}
